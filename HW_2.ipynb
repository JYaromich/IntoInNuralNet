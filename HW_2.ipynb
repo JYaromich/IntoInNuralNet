{
  "nbformat": 4,
  "nbformat_minor": 0,
  "metadata": {
    "colab": {
      "name": "HW_2.ipynb",
      "provenance": [],
      "collapsed_sections": [],
      "toc_visible": true
    },
    "kernelspec": {
      "name": "python3",
      "display_name": "Python 3"
    },
    "language_info": {
      "name": "python"
    }
  },
  "cells": [
    {
      "cell_type": "markdown",
      "source": [
        "# Домашняя работа"
      ],
      "metadata": {
        "id": "9vET1PJm6FWE"
      }
    },
    {
      "cell_type": "markdown",
      "source": [
        "## Импорт библиотек"
      ],
      "metadata": {
        "id": "pNOhUaER-e9r"
      }
    },
    {
      "cell_type": "code",
      "execution_count": 2,
      "metadata": {
        "id": "iZxfOIhY38-6"
      },
      "outputs": [],
      "source": [
        "import keras\n",
        "import numpy as np\n",
        "import matplotlib.pyplot as plt\n",
        "\n",
        "from keras.datasets import fashion_mnist"
      ]
    },
    {
      "cell_type": "markdown",
      "source": [
        "## Подготовка данных"
      ],
      "metadata": {
        "id": "-W1Zf2vE-jQX"
      }
    },
    {
      "cell_type": "code",
      "source": [
        "(X_train, y_train_labels), (X_test, y_test_labels) = fashion_mnist.load_data()"
      ],
      "metadata": {
        "id": "CccwDuvV6bIg",
        "colab": {
          "base_uri": "https://localhost:8080/"
        },
        "outputId": "3dc1caaa-97c6-4301-d60e-974b33aca3a2"
      },
      "execution_count": 3,
      "outputs": [
        {
          "output_type": "stream",
          "name": "stdout",
          "text": [
            "Downloading data from https://storage.googleapis.com/tensorflow/tf-keras-datasets/train-labels-idx1-ubyte.gz\n",
            "32768/29515 [=================================] - 0s 0us/step\n",
            "40960/29515 [=========================================] - 0s 0us/step\n",
            "Downloading data from https://storage.googleapis.com/tensorflow/tf-keras-datasets/train-images-idx3-ubyte.gz\n",
            "26427392/26421880 [==============================] - 1s 0us/step\n",
            "26435584/26421880 [==============================] - 1s 0us/step\n",
            "Downloading data from https://storage.googleapis.com/tensorflow/tf-keras-datasets/t10k-labels-idx1-ubyte.gz\n",
            "16384/5148 [===============================================================================================] - 0s 0us/step\n",
            "Downloading data from https://storage.googleapis.com/tensorflow/tf-keras-datasets/t10k-images-idx3-ubyte.gz\n",
            "4423680/4422102 [==============================] - 0s 0us/step\n",
            "4431872/4422102 [==============================] - 0s 0us/step\n"
          ]
        }
      ]
    },
    {
      "cell_type": "code",
      "source": [
        "X_train.shape, y_train_labels.shape"
      ],
      "metadata": {
        "colab": {
          "base_uri": "https://localhost:8080/"
        },
        "id": "QXX8nLP667sp",
        "outputId": "808ec75d-f2d0-43c2-c398-b68ac98e7997"
      },
      "execution_count": 4,
      "outputs": [
        {
          "output_type": "execute_result",
          "data": {
            "text/plain": [
              "((60000, 28, 28), (60000,))"
            ]
          },
          "metadata": {},
          "execution_count": 4
        }
      ]
    },
    {
      "cell_type": "code",
      "source": [
        "ind = np.random.randint(0, X_train.shape[0])\n",
        "plt.imshow(X_train[ind], cmap='gray')\n",
        "print(y_train_labels[ind])"
      ],
      "metadata": {
        "colab": {
          "base_uri": "https://localhost:8080/",
          "height": 283
        },
        "id": "eDzFR1R66yLg",
        "outputId": "23b81deb-ab74-4dee-844f-b4e5963160d2"
      },
      "execution_count": 5,
      "outputs": [
        {
          "output_type": "stream",
          "name": "stdout",
          "text": [
            "2\n"
          ]
        },
        {
          "output_type": "display_data",
          "data": {
            "image/png": "[encoded data removed]",
            "text/plain": [
              "<Figure size 432x288 with 1 Axes>"
            ]
          },
          "metadata": {
            "needs_background": "light"
          }
        }
      ]
    },
    {
      "cell_type": "markdown",
      "source": [
        "\n",
        "<thead>\n",
        "<tr>\n",
        "<th align=\"center\">Label</th>\n",
        "<th>Description</th>\n",
        "</tr>\n",
        "</thead>\n",
        "<tbody>\n",
        "<tr>\n",
        "<td align=\"center\">0</td>\n",
        "<td>T-shirt/top</td>\n",
        "</tr>\n",
        "<tr>\n",
        "<td align=\"center\">1</td>\n",
        "<td>Trouser</td>\n",
        "</tr>\n",
        "<tr>\n",
        "<td align=\"center\">2</td>\n",
        "<td>Pullover</td>\n",
        "</tr>\n",
        "<tr>\n",
        "<td align=\"center\">3</td>\n",
        "<td>Dress</td>\n",
        "</tr>\n",
        "<tr>\n",
        "<td align=\"center\">4</td>\n",
        "<td>Coat</td>\n",
        "</tr>\n",
        "<tr>\n",
        "<td align=\"center\">5</td>\n",
        "<td>Sandal</td>\n",
        "</tr>\n",
        "<tr>\n",
        "<td align=\"center\">6</td>\n",
        "<td>Shirt</td>\n",
        "</tr>\n",
        "<tr>\n",
        "<td align=\"center\">7</td>\n",
        "<td>Sneaker</td>\n",
        "</tr>\n",
        "<tr>\n",
        "<td align=\"center\">8</td>\n",
        "<td>Bag</td>\n",
        "</tr>\n",
        "<tr>\n",
        "<td align=\"center\">9</td>\n",
        "<td>Ankle boot</td>\n",
        "</tr>\n",
        "</tbody>\n"
      ],
      "metadata": {
        "id": "F-t-ySZF8mr-"
      }
    },
    {
      "cell_type": "code",
      "source": [
        "# Нормировка\n",
        "X_test = X_test / X_train.max()\n",
        "X_train = X_train / X_train.max()\n",
        "(X_train.min(), X_train.max()), (X_test.min(), X_test.max()) "
      ],
      "metadata": {
        "colab": {
          "base_uri": "https://localhost:8080/"
        },
        "id": "XsKmKnI_-MAr",
        "outputId": "0a8cfa39-9214-4888-971c-06b081c09ed7"
      },
      "execution_count": 6,
      "outputs": [
        {
          "output_type": "execute_result",
          "data": {
            "text/plain": [
              "((0.0, 1.0), (0.0, 1.0))"
            ]
          },
          "metadata": {},
          "execution_count": 6
        }
      ]
    },
    {
      "cell_type": "code",
      "source": [
        "# Вытягивание признаков\n",
        "X_train = X_train.reshape((-1, 28 * 28))\n",
        "X_test = X_test.reshape((-1, 28 * 28))\n",
        "\n",
        "X_train.shape, X_test.shape"
      ],
      "metadata": {
        "colab": {
          "base_uri": "https://localhost:8080/"
        },
        "id": "VBh9Dg9Q-SzV",
        "outputId": "0276d04b-0074-45f0-a5ff-b867722de6b7"
      },
      "execution_count": 7,
      "outputs": [
        {
          "output_type": "execute_result",
          "data": {
            "text/plain": [
              "((60000, 784), (10000, 784))"
            ]
          },
          "metadata": {},
          "execution_count": 7
        }
      ]
    },
    {
      "cell_type": "code",
      "source": [
        "from keras.utils.np_utils import to_categorical\n",
        "\n",
        "y_train = to_categorical(y_train_labels)\n",
        "y_test = to_categorical(y_test_labels)\n",
        "\n",
        "y_train[:2]"
      ],
      "metadata": {
        "colab": {
          "base_uri": "https://localhost:8080/"
        },
        "id": "3QiceTWQDvmI",
        "outputId": "66b618d0-0f8d-4add-dff1-dc78c6e3b20a"
      },
      "execution_count": 8,
      "outputs": [
        {
          "output_type": "execute_result",
          "data": {
            "text/plain": [
              "array([[0., 0., 0., 0., 0., 0., 0., 0., 0., 1.],\n",
              "       [1., 0., 0., 0., 0., 0., 0., 0., 0., 0.]], dtype=float32)"
            ]
          },
          "metadata": {},
          "execution_count": 8
        }
      ]
    },
    {
      "cell_type": "markdown",
      "source": [
        "# Задание №1"
      ],
      "metadata": {
        "id": "_nHqrt7f-oxq"
      }
    },
    {
      "cell_type": "markdown",
      "source": [
        "1. Опишите - какой результат нейросети получен в зависимости от:\n",
        "\n",
        "* числа нейронов в слое (для 2-х слойной сети),\n",
        "* числа слоев (2, 3, 5, 10) при близких размерах сети (близкое число тренируемых параметров).\n",
        "* фиксируйте для тренировочного и тестового набора метрики accuracy.\n",
        "\n"
      ],
      "metadata": {
        "id": "z6CSToMc6Pm4"
      }
    },
    {
      "cell_type": "code",
      "source": [
        "from keras.layers import Dense\n",
        "from keras.models import Sequential\n",
        "from keras.utils.vis_utils import plot_model"
      ],
      "metadata": {
        "id": "cp0vQG0p_xcl"
      },
      "execution_count": 9,
      "outputs": []
    },
    {
      "cell_type": "markdown",
      "source": [
        "### Задание 1.1. Опишите - какой результат нейросети получен в зависимости от числа нейронов в слое (для 2-х слойной сети)"
      ],
      "metadata": {
        "id": "LW6Gto-PAjGG"
      }
    },
    {
      "cell_type": "code",
      "source": [
        "import tensorflow as tf\n",
        "from collections import namedtuple\n",
        "\n",
        "tf.random.set_seed(42)\n",
        "\n",
        "accuracy_loss = namedtuple(\n",
        "  'accuracy_loss', \n",
        "  ['accuracy','loss',]\n",
        ")\n",
        "\n",
        "\n",
        "neuron_num = [1, 2, 5, 8, 10, 15, 20, 30, 40, 50, 100, 200, 1000, 2000]\n",
        "output_neuron_num = y_train.shape[1]\n",
        "test_reserch_result = dict()\n",
        "train_reserch_result = dict()\n",
        "\n",
        "for neuron in neuron_num:\n",
        "  model = Sequential()\n",
        "  model.add(Dense(neuron, input_shape=(28*28,), activation='relu'))\n",
        "  model.add(Dense(output_neuron_num, activation='sigmoid'))\n",
        "\n",
        "  model.compile(loss='categorical_crossentropy', optimizer='SGD', metrics=['accuracy'])\n",
        "\n",
        "  history = model.fit(X_train, y_train,\n",
        "                      epochs=5,\n",
        "                      batch_size=1000,\n",
        "                      verbose=1,\n",
        "                      validation_split=0.2)\n",
        "  \n",
        "  train_reserch_result[neuron] = accuracy_loss(history.history['accuracy'][-1], history.history['loss'][-1])\n",
        "  # test_reserch_result[neuron] = accuracy_loss(*model.evaluate(X_test, y_test, batch_size=1000))\n",
        "  test_reserch_result[neuron] = accuracy_loss(history.history['val_accuracy'][-1], history.history['val_loss'][-1])\n"
      ],
      "metadata": {
        "colab": {
          "base_uri": "https://localhost:8080/"
        },
        "id": "Lag_4V15AwOF",
        "outputId": "6678926e-7e50-47ae-ce86-3b25595b1e7d"
      },
      "execution_count": 10,
      "outputs": [
        {
          "output_type": "stream",
          "name": "stdout",
          "text": [
            "Epoch 1/5\n",
            "48/48 [==============================] - 1s 10ms/step - loss: 2.2955 - accuracy: 0.1155 - val_loss: 2.2776 - val_accuracy: 0.1323\n",
            "Epoch 2/5\n",
            "48/48 [==============================] - 0s 7ms/step - loss: 2.2636 - accuracy: 0.1435 - val_loss: 2.2470 - val_accuracy: 0.1505\n",
            "Epoch 3/5\n",
            "48/48 [==============================] - 0s 8ms/step - loss: 2.2374 - accuracy: 0.1686 - val_loss: 2.2224 - val_accuracy: 0.1710\n",
            "Epoch 4/5\n",
            "48/48 [==============================] - 0s 6ms/step - loss: 2.2140 - accuracy: 0.1664 - val_loss: 2.1984 - val_accuracy: 0.1714\n",
            "Epoch 5/5\n",
            "48/48 [==============================] - 0s 6ms/step - loss: 2.1908 - accuracy: 0.1686 - val_loss: 2.1747 - val_accuracy: 0.1730\n",
            "Epoch 1/5\n",
            "48/48 [==============================] - 1s 12ms/step - loss: 2.3059 - accuracy: 0.0704 - val_loss: 2.2989 - val_accuracy: 0.0874\n",
            "Epoch 2/5\n",
            "48/48 [==============================] - 0s 9ms/step - loss: 2.2908 - accuracy: 0.1076 - val_loss: 2.2707 - val_accuracy: 0.1326\n",
            "Epoch 3/5\n",
            "48/48 [==============================] - 0s 9ms/step - loss: 2.2505 - accuracy: 0.1242 - val_loss: 2.2294 - val_accuracy: 0.1259\n",
            "Epoch 4/5\n",
            "48/48 [==============================] - 0s 8ms/step - loss: 2.2151 - accuracy: 0.1217 - val_loss: 2.1977 - val_accuracy: 0.1252\n",
            "Epoch 5/5\n",
            "48/48 [==============================] - 0s 9ms/step - loss: 2.1856 - accuracy: 0.1369 - val_loss: 2.1701 - val_accuracy: 0.1800\n",
            "Epoch 1/5\n",
            "48/48 [==============================] - 1s 12ms/step - loss: 2.2575 - accuracy: 0.2251 - val_loss: 2.2228 - val_accuracy: 0.2614\n",
            "Epoch 2/5\n",
            "48/48 [==============================] - 0s 9ms/step - loss: 2.2004 - accuracy: 0.2545 - val_loss: 2.1735 - val_accuracy: 0.2265\n",
            "Epoch 3/5\n",
            "48/48 [==============================] - 0s 8ms/step - loss: 2.1526 - accuracy: 0.2452 - val_loss: 2.1233 - val_accuracy: 0.2432\n",
            "Epoch 4/5\n",
            "48/48 [==============================] - 0s 8ms/step - loss: 2.1022 - accuracy: 0.2393 - val_loss: 2.0701 - val_accuracy: 0.2534\n",
            "Epoch 5/5\n",
            "48/48 [==============================] - 0s 9ms/step - loss: 2.0499 - accuracy: 0.2504 - val_loss: 2.0171 - val_accuracy: 0.2634\n",
            "Epoch 1/5\n",
            "48/48 [==============================] - 1s 13ms/step - loss: 2.1802 - accuracy: 0.2459 - val_loss: 2.0380 - val_accuracy: 0.3013\n",
            "Epoch 2/5\n",
            "48/48 [==============================] - 0s 10ms/step - loss: 1.9605 - accuracy: 0.3426 - val_loss: 1.8642 - val_accuracy: 0.3867\n",
            "Epoch 3/5\n",
            "48/48 [==============================] - 0s 10ms/step - loss: 1.7838 - accuracy: 0.4336 - val_loss: 1.6668 - val_accuracy: 0.4678\n",
            "Epoch 4/5\n",
            "48/48 [==============================] - 0s 10ms/step - loss: 1.5792 - accuracy: 0.4817 - val_loss: 1.4692 - val_accuracy: 0.5167\n",
            "Epoch 5/5\n",
            "48/48 [==============================] - 0s 10ms/step - loss: 1.3944 - accuracy: 0.5640 - val_loss: 1.3005 - val_accuracy: 0.6171\n",
            "Epoch 1/5\n",
            "48/48 [==============================] - 1s 14ms/step - loss: 2.1414 - accuracy: 0.2263 - val_loss: 2.0034 - val_accuracy: 0.3648\n",
            "Epoch 2/5\n",
            "48/48 [==============================] - 0s 9ms/step - loss: 1.9005 - accuracy: 0.4228 - val_loss: 1.7874 - val_accuracy: 0.4748\n",
            "Epoch 3/5\n",
            "48/48 [==============================] - 1s 11ms/step - loss: 1.6922 - accuracy: 0.5012 - val_loss: 1.5822 - val_accuracy: 0.5255\n",
            "Epoch 4/5\n",
            "48/48 [==============================] - 0s 10ms/step - loss: 1.4977 - accuracy: 0.5528 - val_loss: 1.4009 - val_accuracy: 0.5889\n",
            "Epoch 5/5\n",
            "48/48 [==============================] - 0s 10ms/step - loss: 1.3332 - accuracy: 0.6028 - val_loss: 1.2535 - val_accuracy: 0.6138\n",
            "Epoch 1/5\n",
            "48/48 [==============================] - 1s 14ms/step - loss: 2.1638 - accuracy: 0.1911 - val_loss: 1.9862 - val_accuracy: 0.2602\n",
            "Epoch 2/5\n",
            "48/48 [==============================] - 1s 11ms/step - loss: 1.8460 - accuracy: 0.3739 - val_loss: 1.6993 - val_accuracy: 0.4751\n",
            "Epoch 3/5\n",
            "48/48 [==============================] - 0s 10ms/step - loss: 1.5812 - accuracy: 0.5453 - val_loss: 1.4443 - val_accuracy: 0.6133\n",
            "Epoch 4/5\n",
            "48/48 [==============================] - 1s 10ms/step - loss: 1.3458 - accuracy: 0.6295 - val_loss: 1.2419 - val_accuracy: 0.6418\n",
            "Epoch 5/5\n",
            "48/48 [==============================] - 0s 10ms/step - loss: 1.1785 - accuracy: 0.6505 - val_loss: 1.1064 - val_accuracy: 0.6579\n",
            "Epoch 1/5\n",
            "48/48 [==============================] - 1s 14ms/step - loss: 2.1682 - accuracy: 0.1873 - val_loss: 1.9275 - val_accuracy: 0.2754\n",
            "Epoch 2/5\n",
            "48/48 [==============================] - 1s 11ms/step - loss: 1.8026 - accuracy: 0.3585 - val_loss: 1.6646 - val_accuracy: 0.4572\n",
            "Epoch 3/5\n",
            "48/48 [==============================] - 0s 10ms/step - loss: 1.5591 - accuracy: 0.5104 - val_loss: 1.4350 - val_accuracy: 0.5584\n",
            "Epoch 4/5\n",
            "48/48 [==============================] - 0s 10ms/step - loss: 1.3542 - accuracy: 0.5837 - val_loss: 1.2591 - val_accuracy: 0.6219\n",
            "Epoch 5/5\n",
            "48/48 [==============================] - 1s 11ms/step - loss: 1.2088 - accuracy: 0.6320 - val_loss: 1.1421 - val_accuracy: 0.6472\n",
            "Epoch 1/5\n",
            "48/48 [==============================] - 1s 14ms/step - loss: 2.1357 - accuracy: 0.2826 - val_loss: 1.9451 - val_accuracy: 0.4208\n",
            "Epoch 2/5\n",
            "48/48 [==============================] - 1s 11ms/step - loss: 1.8042 - accuracy: 0.4817 - val_loss: 1.6496 - val_accuracy: 0.5608\n",
            "Epoch 3/5\n",
            "48/48 [==============================] - 1s 11ms/step - loss: 1.5317 - accuracy: 0.6081 - val_loss: 1.4039 - val_accuracy: 0.6498\n",
            "Epoch 4/5\n",
            "48/48 [==============================] - 1s 11ms/step - loss: 1.3186 - accuracy: 0.6605 - val_loss: 1.2231 - val_accuracy: 0.6747\n",
            "Epoch 5/5\n",
            "48/48 [==============================] - 0s 10ms/step - loss: 1.1645 - accuracy: 0.6821 - val_loss: 1.0938 - val_accuracy: 0.6907\n",
            "Epoch 1/5\n",
            "48/48 [==============================] - 1s 14ms/step - loss: 1.9174 - accuracy: 0.3519 - val_loss: 1.6529 - val_accuracy: 0.5113\n",
            "Epoch 2/5\n",
            "48/48 [==============================] - 1s 11ms/step - loss: 1.5092 - accuracy: 0.5634 - val_loss: 1.3756 - val_accuracy: 0.6198\n",
            "Epoch 3/5\n",
            "48/48 [==============================] - 1s 11ms/step - loss: 1.2929 - accuracy: 0.6291 - val_loss: 1.2044 - val_accuracy: 0.6529\n",
            "Epoch 4/5\n",
            "48/48 [==============================] - 1s 11ms/step - loss: 1.1526 - accuracy: 0.6541 - val_loss: 1.0897 - val_accuracy: 0.6708\n",
            "Epoch 5/5\n",
            "48/48 [==============================] - 1s 11ms/step - loss: 1.0560 - accuracy: 0.6693 - val_loss: 1.0083 - val_accuracy: 0.6818\n",
            "Epoch 1/5\n",
            "48/48 [==============================] - 1s 15ms/step - loss: 2.0202 - accuracy: 0.3211 - val_loss: 1.7489 - val_accuracy: 0.5447\n",
            "Epoch 2/5\n",
            "48/48 [==============================] - 1s 12ms/step - loss: 1.5774 - accuracy: 0.6068 - val_loss: 1.4045 - val_accuracy: 0.6597\n",
            "Epoch 3/5\n",
            "48/48 [==============================] - 1s 12ms/step - loss: 1.3031 - accuracy: 0.6670 - val_loss: 1.1905 - val_accuracy: 0.6828\n",
            "Epoch 4/5\n",
            "48/48 [==============================] - 1s 12ms/step - loss: 1.1329 - accuracy: 0.6823 - val_loss: 1.0580 - val_accuracy: 0.6998\n",
            "Epoch 5/5\n",
            "48/48 [==============================] - 1s 12ms/step - loss: 1.0236 - accuracy: 0.6983 - val_loss: 0.9695 - val_accuracy: 0.7103\n",
            "Epoch 1/5\n",
            "48/48 [==============================] - 1s 20ms/step - loss: 1.9710 - accuracy: 0.3907 - val_loss: 1.6220 - val_accuracy: 0.6198\n",
            "Epoch 2/5\n",
            "48/48 [==============================] - 1s 16ms/step - loss: 1.4465 - accuracy: 0.6408 - val_loss: 1.2898 - val_accuracy: 0.6625\n",
            "Epoch 3/5\n",
            "48/48 [==============================] - 1s 16ms/step - loss: 1.2027 - accuracy: 0.6686 - val_loss: 1.1092 - val_accuracy: 0.6816\n",
            "Epoch 4/5\n",
            "48/48 [==============================] - 1s 16ms/step - loss: 1.0616 - accuracy: 0.6877 - val_loss: 1.0000 - val_accuracy: 0.6982\n",
            "Epoch 5/5\n",
            "48/48 [==============================] - 1s 16ms/step - loss: 0.9723 - accuracy: 0.7026 - val_loss: 0.9266 - val_accuracy: 0.7128\n",
            "Epoch 1/5\n",
            "48/48 [==============================] - 2s 27ms/step - loss: 1.9445 - accuracy: 0.3935 - val_loss: 1.6059 - val_accuracy: 0.6033\n",
            "Epoch 2/5\n",
            "48/48 [==============================] - 1s 24ms/step - loss: 1.4285 - accuracy: 0.6314 - val_loss: 1.2635 - val_accuracy: 0.6651\n",
            "Epoch 3/5\n",
            "48/48 [==============================] - 1s 23ms/step - loss: 1.1761 - accuracy: 0.6667 - val_loss: 1.0797 - val_accuracy: 0.6856\n",
            "Epoch 4/5\n",
            "48/48 [==============================] - 1s 23ms/step - loss: 1.0324 - accuracy: 0.6893 - val_loss: 0.9688 - val_accuracy: 0.7083\n",
            "Epoch 5/5\n",
            "48/48 [==============================] - 1s 23ms/step - loss: 0.9411 - accuracy: 0.7090 - val_loss: 0.8948 - val_accuracy: 0.7243\n",
            "Epoch 1/5\n",
            "48/48 [==============================] - 5s 88ms/step - loss: 1.8398 - accuracy: 0.4905 - val_loss: 1.4677 - val_accuracy: 0.6549\n",
            "Epoch 2/5\n",
            "48/48 [==============================] - 4s 85ms/step - loss: 1.2946 - accuracy: 0.6677 - val_loss: 1.1459 - val_accuracy: 0.6796\n",
            "Epoch 3/5\n",
            "48/48 [==============================] - 4s 83ms/step - loss: 1.0715 - accuracy: 0.6853 - val_loss: 0.9925 - val_accuracy: 0.7004\n",
            "Epoch 4/5\n",
            "48/48 [==============================] - 4s 84ms/step - loss: 0.9542 - accuracy: 0.7070 - val_loss: 0.9035 - val_accuracy: 0.7229\n",
            "Epoch 5/5\n",
            "48/48 [==============================] - 4s 83ms/step - loss: 0.8807 - accuracy: 0.7276 - val_loss: 0.8439 - val_accuracy: 0.7388\n",
            "Epoch 1/5\n",
            "48/48 [==============================] - 8s 162ms/step - loss: 1.7740 - accuracy: 0.5254 - val_loss: 1.3960 - val_accuracy: 0.6616\n",
            "Epoch 2/5\n",
            "48/48 [==============================] - 7s 156ms/step - loss: 1.2371 - accuracy: 0.6690 - val_loss: 1.0986 - val_accuracy: 0.6909\n",
            "Epoch 3/5\n",
            "48/48 [==============================] - 8s 157ms/step - loss: 1.0334 - accuracy: 0.6978 - val_loss: 0.9594 - val_accuracy: 0.7171\n",
            "Epoch 4/5\n",
            "48/48 [==============================] - 7s 157ms/step - loss: 0.9264 - accuracy: 0.7236 - val_loss: 0.8778 - val_accuracy: 0.7389\n",
            "Epoch 5/5\n",
            "48/48 [==============================] - 8s 158ms/step - loss: 0.8582 - accuracy: 0.7429 - val_loss: 0.8223 - val_accuracy: 0.7525\n"
          ]
        }
      ]
    },
    {
      "cell_type": "code",
      "source": [
        "figure, axis = plt.subplots(1, 2, figsize=(16, 9))\n",
        "  \n",
        "# # For Sine Function\n",
        "# .plot(X, Y1)\n",
        "# axis[0, 0].set_title(\"Sine Function\")\n",
        "\n",
        "axis[0].plot(neuron_num, \n",
        "         [reserch_result.accuracy for reserch_result in train_reserch_result.values()],\n",
        "         'p-',\n",
        "         label='train',\n",
        "         c='g')\n",
        "axis[0].plot(neuron_num, \n",
        "         [reserch_result.accuracy for reserch_result in test_reserch_result.values()],\n",
        "         'p-',\n",
        "         label='val',\n",
        "         c='orange')\n",
        "\n",
        "axis[1].plot(neuron_num, \n",
        "         [reserch_result.loss for reserch_result in train_reserch_result.values()],\n",
        "         'p-',\n",
        "         label='train',\n",
        "         c='g')\n",
        "\n",
        "axis[1].plot(neuron_num, \n",
        "         [reserch_result.loss for reserch_result in test_reserch_result.values()],\n",
        "         'p-',\n",
        "         label='val',\n",
        "         c='orange')\n",
        "\n",
        "axis[0].set_title('Train accuracy')\n",
        "axis[0].legend(loc=\"best\")\n",
        "\n",
        "# axis[1].set_title('Test accuracy')\n",
        "# axis[1].legend(loc=\"best\")\n",
        "\n",
        "axis[1].set_title('Loss')\n",
        "axis[1].legend(loc=\"best\")\n",
        "\n",
        "plt.show()"
      ],
      "metadata": {
        "colab": {
          "base_uri": "https://localhost:8080/",
          "height": 553
        },
        "id": "2VD0nS5M0KlB",
        "outputId": "9b069ecb-104d-4e57-8dd1-e91eabd49b09"
      },
      "execution_count": 11,
      "outputs": [
        {
          "output_type": "display_data",
          "data": {
            "image/png": "[encoded data removed]",
            "text/plain": [
              "<Figure size 1152x648 with 2 Axes>"
            ]
          },
          "metadata": {
            "needs_background": "light"
          }
        }
      ]
    },
    {
      "cell_type": "markdown",
      "source": [
        "**Вывод**: Зависимость accuracy от числа нейронов в сети имеет вид: \n",
        "$$\\text{const}-e^{-x}$$\n",
        "т.е. имеет насыщение (при существенном увеличении числа нейронов прирост в точности не значителен). \n",
        "\n",
        "Что касается зависимости loss от числа нейронов, то здесь зависимость вида $-e^{-x}$"
      ],
      "metadata": {
        "id": "R6mWDfmbbZtL"
      }
    },
    {
      "cell_type": "markdown",
      "source": [
        "## Задание 1.2. Опишите - какой результат нейросети получен в зависимости от числа слоев (2, 3, 5, 10) при близких размерах сети (близкое число тренируемых параметров)"
      ],
      "metadata": {
        "id": "eHklKUkxiULK"
      }
    },
    {
      "cell_type": "code",
      "source": [
        "neuron_layers = [2, 3, 5, 10, 20, 30, 40, 50]"
      ],
      "metadata": {
        "id": "N0GVlwqw8JtG"
      },
      "execution_count": 12,
      "outputs": []
    },
    {
      "cell_type": "code",
      "source": [
        "def get_neuron_num(layer_number, \n",
        "                   total_params=200000, \n",
        "                   input_neuron_count = 784,\n",
        "                   output_neuron_num=10):\n",
        "\n",
        "  if layer_number < 3:\n",
        "    return round((total_params - output_neuron_num) / (input_neuron_count + 1 + output_neuron_num))\n",
        "\n",
        "  c = total_params - output_neuron_num\n",
        "  b = input_neuron_count + output_neuron_num + 1 + layer_number - 2\n",
        "  a = layer_number - 2\n",
        "  return round(np.max([(-b + np.sqrt(b ** 2 + 4 * a * c)) / (2 * a),\n",
        "            (-b - np.sqrt(b ** 2 + 4 * a * c)) / (2 * a)]))"
      ],
      "metadata": {
        "id": "OK7d4bu_D3YW"
      },
      "execution_count": 13,
      "outputs": []
    },
    {
      "cell_type": "code",
      "source": [
        "train_reserch_result, test_reserch_result, models = dict(), dict(), dict()\n",
        "\n",
        "tf.random.set_seed(42)\n",
        "\n",
        "for neuron_layer in neuron_layers:\n",
        "  model = Sequential()\n",
        "\n",
        "  model.add(Dense(get_neuron_num(neuron_layer), input_shape=(28 * 28,), activation='relu'))\n",
        "  [model.add(Dense(get_neuron_num(neuron_layer))) for _ in range(neuron_layer - neuron_layers[0])]\n",
        "  model.add(Dense(output_neuron_num, activation='sigmoid'))\n",
        "\n",
        "  models[neuron_layer] = model\n",
        "  model.compile(loss='categorical_crossentropy', optimizer='SGD', metrics=['accuracy'])\n",
        "\n",
        "  history = model.fit(X_train, y_train,\n",
        "                      epochs=5,\n",
        "                      batch_size=1000,\n",
        "                      verbose=0,\n",
        "                      validation_split=0.2)\n",
        "  \n",
        "  train_reserch_result[neuron_layer] = accuracy_loss(history.history['accuracy'][-1], history.history['loss'][-1])\n",
        "  test_reserch_result[neuron_layer] = accuracy_loss(history.history['val_accuracy'][-1], history.history['val_loss'][-1])\n",
        "  \n",
        "  "
      ],
      "metadata": {
        "id": "DT6NfXED5yBh"
      },
      "execution_count": 14,
      "outputs": []
    },
    {
      "cell_type": "code",
      "source": [
        "figure, axis = plt.subplots(1, 2, figsize=(16, 9))\n",
        "  \n",
        "axis[0].plot(neuron_layers, \n",
        "         [reserch_result.accuracy for reserch_result in train_reserch_result.values()],\n",
        "         'p-',\n",
        "         label='train',\n",
        "         c='g')\n",
        "axis[0].plot(neuron_layers, \n",
        "         [reserch_result.accuracy for reserch_result in test_reserch_result.values()],\n",
        "         'p-',\n",
        "         label='val',\n",
        "         c='orange')\n",
        "\n",
        "axis[1].plot(neuron_layers, \n",
        "         [reserch_result.loss for reserch_result in train_reserch_result.values()],\n",
        "         'p-',\n",
        "         label='train',\n",
        "         c='g')\n",
        "\n",
        "axis[1].plot(neuron_layers, \n",
        "         [reserch_result.loss for reserch_result in test_reserch_result.values()],\n",
        "         'p-',\n",
        "         label='val',\n",
        "         c='orange')\n",
        "\n",
        "axis[0].set_title('Train accuracy')\n",
        "axis[0].legend(loc=\"best\")\n",
        "\n",
        "# axis[1].set_title('Test accuracy')\n",
        "# axis[1].legend(loc=\"best\")\n",
        "\n",
        "axis[1].set_title('Loss')\n",
        "axis[1].legend(loc=\"best\")\n",
        "\n",
        "plt.show()"
      ],
      "metadata": {
        "colab": {
          "base_uri": "https://localhost:8080/",
          "height": 553
        },
        "id": "vGzqNW1b_0BE",
        "outputId": "e1db5d86-4fd0-4239-f538-40a9fa91960d"
      },
      "execution_count": 15,
      "outputs": [
        {
          "output_type": "display_data",
          "data": {
            "image/png": "[encoded data removed]",
            "text/plain": [
              "<Figure size 1152x648 with 2 Axes>"
            ]
          },
          "metadata": {
            "needs_background": "light"
          }
        }
      ]
    },
    {
      "cell_type": "markdown",
      "source": [
        "**Вывод**: Зависимость точности от количества слоев нелинейная, а имеет зависимость вида $-x^2$. Таким образом у данной зависимости есть максимум, который и нужно найти"
      ],
      "metadata": {
        "id": "Ro7h4JoJ0n6s"
      }
    },
    {
      "cell_type": "markdown",
      "source": [
        "# Задание № 2. Проверьте работу разных оптимизаторов (SGD, Adam, RMSProp) для одной из моделей п.1. Фиксируйте для тренировочного и тестового набора метрики accuracy."
      ],
      "metadata": {
        "id": "HO0XVRPm2AO2"
      }
    },
    {
      "cell_type": "code",
      "source": [
        "models[10].save_weights('model_weights.h5')"
      ],
      "metadata": {
        "id": "8bCNXWUI73ab"
      },
      "execution_count": 16,
      "outputs": []
    },
    {
      "cell_type": "code",
      "source": [
        "fitted_models = dict()\n",
        "\n",
        "plt.figure(figsize=(16, 7))\n",
        "colors = ['g', 'b', 'r']\n",
        "\n",
        "num_epochs = 4\n",
        "batch_size = 1000\n",
        "\n",
        "epoch = np.arange(num_epochs+1)\n",
        "\n",
        "for i, i_opti in enumerate([keras.optimizers.gradient_descent_v2.SGD(),\n",
        "                            keras.optimizers.adam_v2.Adam(),\n",
        "                            keras.optimizers.rmsprop_v2.RMSProp()]):\n",
        "  \n",
        "  model = models[10]\n",
        "\n",
        "  # model.from_config(models[30].get_config())\n",
        "  \n",
        "  model.load_weights('model_weights.h5')\n",
        "\n",
        "  model.compile(optimizer=i_opti,\n",
        "                loss='categorical_crossentropy',\n",
        "                metrics=['accuracy'])\n",
        "  \n",
        "  h0_train = model.evaluate(X_train, y_train, verbose=0)\n",
        "  h0_val = model.evaluate(X_test, y_test, verbose=0)\n",
        "\n",
        "  history = model.fit(X_train, y_train,\n",
        "                    epochs=num_epochs,\n",
        "                    batch_size=batch_size,\n",
        "                    validation_data=(X_test, y_test),\n",
        "                    verbose=1)\n",
        "  \n",
        "  fitted_models[model.optimizer.get_config()['name']] = model  \n",
        "\n",
        "  # картинки\n",
        "  plt.plot(epoch, [h0_train[1]] + history.history['accuracy'],\n",
        "            '-', c=colors[i],\n",
        "            label=model.optimizer.get_config()['name'] + ' train')\n",
        "  plt.plot(epoch, [h0_val[1]] + history.history['accuracy'],\n",
        "            '--', c=colors[i],\n",
        "            label=model.optimizer.get_config()['name'] + ' val')\n",
        "  print('=' * 20)\n",
        "\n",
        "plt.legend()\n",
        "plt.title('нейросети от оптимизатора')\n",
        "plt.xlabel('epoch')\n",
        "plt.ylabel('accuracy')\n",
        "plt.show()\n"
      ],
      "metadata": {
        "id": "_3JWQDE-_7Zc",
        "colab": {
          "base_uri": "https://localhost:8080/",
          "height": 969
        },
        "outputId": "ea0b83d0-e0ac-4785-c7e9-51c4e768fe25"
      },
      "execution_count": 17,
      "outputs": [
        {
          "output_type": "stream",
          "name": "stdout",
          "text": [
            "Epoch 1/4\n",
            "60/60 [==============================] - 3s 37ms/step - loss: 0.5777 - accuracy: 0.7944 - val_loss: 0.5727 - val_accuracy: 0.7957\n",
            "Epoch 2/4\n",
            "60/60 [==============================] - 2s 36ms/step - loss: 0.5538 - accuracy: 0.8023 - val_loss: 0.5616 - val_accuracy: 0.7969\n",
            "Epoch 3/4\n",
            "60/60 [==============================] - 2s 36ms/step - loss: 0.5366 - accuracy: 0.8095 - val_loss: 0.5977 - val_accuracy: 0.7727\n",
            "Epoch 4/4\n",
            "60/60 [==============================] - 2s 36ms/step - loss: 0.5253 - accuracy: 0.8122 - val_loss: 0.5441 - val_accuracy: 0.8046\n",
            "====================\n",
            "Epoch 1/4\n",
            "60/60 [==============================] - 3s 36ms/step - loss: 0.6651 - accuracy: 0.7733 - val_loss: 0.5008 - val_accuracy: 0.8189\n",
            "Epoch 2/4\n",
            "60/60 [==============================] - 2s 35ms/step - loss: 0.4465 - accuracy: 0.8404 - val_loss: 0.4519 - val_accuracy: 0.8400\n",
            "Epoch 3/4\n",
            "60/60 [==============================] - 2s 36ms/step - loss: 0.3914 - accuracy: 0.8601 - val_loss: 0.4268 - val_accuracy: 0.8447\n",
            "Epoch 4/4\n",
            "60/60 [==============================] - 2s 36ms/step - loss: 0.3651 - accuracy: 0.8684 - val_loss: 0.4029 - val_accuracy: 0.8556\n",
            "====================\n",
            "Epoch 1/4\n",
            "60/60 [==============================] - 3s 39ms/step - loss: 1.7535 - accuracy: 0.6877 - val_loss: 0.8048 - val_accuracy: 0.6981\n",
            "Epoch 2/4\n",
            "60/60 [==============================] - 2s 38ms/step - loss: 0.7000 - accuracy: 0.7540 - val_loss: 0.6119 - val_accuracy: 0.7920\n",
            "Epoch 3/4\n",
            "60/60 [==============================] - 2s 39ms/step - loss: 0.5882 - accuracy: 0.7895 - val_loss: 0.6457 - val_accuracy: 0.7658\n",
            "Epoch 4/4\n",
            "60/60 [==============================] - 2s 38ms/step - loss: 0.5290 - accuracy: 0.8082 - val_loss: 0.4898 - val_accuracy: 0.8220\n",
            "====================\n"
          ]
        },
        {
          "output_type": "display_data",
          "data": {
            "image/png": "[encoded data removed]",
            "text/plain": [
              "<Figure size 1152x504 with 1 Axes>"
            ]
          },
          "metadata": {
            "needs_background": "light"
          }
        }
      ]
    },
    {
      "cell_type": "markdown",
      "source": [
        "# Задание 3. Сделайте вывод - что помогло вам улучшить качество классификации в нейросети на тестовом наборе?"
      ],
      "metadata": {
        "id": "DDjNI6FvHl_G"
      }
    },
    {
      "cell_type": "markdown",
      "source": [
        "Итак улучшить метрику на тесте нам помогло: увеличение количества слоев, и выбор оптимизатора Adam. Увеличение количества нейронов в сети выше 250 существенного прироста в метрике не даст"
      ],
      "metadata": {
        "id": "GpdGV3YkIg6T"
      }
    },
    {
      "cell_type": "markdown",
      "source": [
        "# Задание 4. Для одного варианта сети сформируйте матрицу ошибок по классам. Оцените качество модели по каждому классу отдельно (полнота, точность)."
      ],
      "metadata": {
        "id": "1w55Ty1oIoYE"
      }
    },
    {
      "cell_type": "code",
      "source": [
        "from sklearn.metrics import confusion_matrix\n",
        "import seaborn as sns "
      ],
      "metadata": {
        "id": "zRXcP2cFRToF"
      },
      "execution_count": 18,
      "outputs": []
    },
    {
      "cell_type": "markdown",
      "source": [
        "Confusion matrix"
      ],
      "metadata": {
        "id": "-jN58yv0YZEF"
      }
    },
    {
      "cell_type": "code",
      "source": [
        "best_model = fitted_models['Adam']\n",
        "\n",
        "sns.heatmap(\n",
        "  confusion_matrix(\n",
        "    y_true=y_test_labels, \n",
        "    y_pred=np.argmax(best_model.predict(X_test, verbose=0), axis=1)), \n",
        "  annot=True);"
      ],
      "metadata": {
        "id": "UXVI12rFItYZ",
        "colab": {
          "base_uri": "https://localhost:8080/",
          "height": 265
        },
        "outputId": "25cc7617-d140-4b67-ad8e-5f523d971032"
      },
      "execution_count": 19,
      "outputs": [
        {
          "output_type": "display_data",
          "data": {
            "image/png": "[encoded data removed]",
            "text/plain": [
              "<Figure size 432x288 with 2 Axes>"
            ]
          },
          "metadata": {
            "needs_background": "light"
          }
        }
      ]
    },
    {
      "cell_type": "code",
      "source": [
        "figure, axis = plt.subplots(2, 2, figsize=(8, 8))\n",
        "\n",
        "axis[0,0].imshow(X_test.reshape(-1, 28, 28)[int(np.argwhere(y_test_labels == 6)[0])] * 255, cmap='gray')\n",
        "axis[0,1].imshow(X_test.reshape(-1, 28, 28)[int(np.argwhere(y_test_labels == 4)[0])] * 255, cmap='gray')\n",
        "\n",
        "axis[1,0].imshow(X_test.reshape(-1, 28, 28)[int(np.argwhere(y_test_labels == 6)[0])] * 255, cmap='gray')\n",
        "axis[1,1].imshow(X_test.reshape(-1, 28, 28)[int(np.argwhere(y_test_labels == 2)[0])] * 255, cmap='gray')\n",
        "# plt.imshow(X_test.reshape(-1, 28, 28)[int(np.argwhere(y_test_labels == 0)[0])] * 255, cmap='gray')"
      ],
      "metadata": {
        "colab": {
          "base_uri": "https://localhost:8080/",
          "height": 501
        },
        "id": "jwUfq9gPal6B",
        "outputId": "778bbeba-36bf-4c75-f63e-5a896d1b4b23"
      },
      "execution_count": 67,
      "outputs": [
        {
          "output_type": "execute_result",
          "data": {
            "text/plain": [
              "<matplotlib.image.AxesImage at 0x7f4b51356090>"
            ]
          },
          "metadata": {},
          "execution_count": 67
        },
        {
          "output_type": "display_data",
          "data": {
            "image/png": "[encoded data removed]",
            "text/plain": [
              "<Figure size 576x576 with 4 Axes>"
            ]
          },
          "metadata": {
            "needs_background": "light"
          }
        }
      ]
    },
    {
      "cell_type": "markdown",
      "source": [
        "Precision and Recall"
      ],
      "metadata": {
        "id": "rbPOcSS6Y_GQ"
      }
    },
    {
      "cell_type": "code",
      "source": [
        "a = np.array([1, 2, 3])\n",
        "(a == 1).astype(int)"
      ],
      "metadata": {
        "colab": {
          "base_uri": "https://localhost:8080/"
        },
        "id": "YsYBgHl23jiw",
        "outputId": "aa269176-7844-45bd-cf28-43e952c9e107"
      },
      "execution_count": 46,
      "outputs": [
        {
          "output_type": "execute_result",
          "data": {
            "text/plain": [
              "array([1, 0, 0])"
            ]
          },
          "metadata": {},
          "execution_count": 46
        }
      ]
    },
    {
      "cell_type": "code",
      "source": [
        "from sklearn.metrics import precision_score, recall_score\n",
        "import pandas as pd\n",
        "\n",
        "pd.DataFrame(\n",
        "    data=[\n",
        "      [label,\n",
        "       precision_score(y_true=(y_test_labels == label).astype(int), \n",
        "                  y_pred=(np.argmax(best_model.predict(X_test, verbose=0), axis=1) == label).astype(int)),\n",
        "  \n",
        "      recall_score(y_true=(y_test_labels == label).astype(int), \n",
        "                  y_pred=(np.argmax(best_model.predict(X_test, verbose=0), axis=1) == label).astype(int))] for label in range(0, 10)],\n",
        "    index=['T-shirt/top', 'Trouser', 'Pullover', 'Dress', 'Coat', 'Sandal', 'Shirt', 'Sneaker', 'Bag', 'Ankle boot'],\n",
        "    columns=['label', 'precision', 'recall']\n",
        ")"
      ],
      "metadata": {
        "colab": {
          "base_uri": "https://localhost:8080/",
          "height": 363
        },
        "id": "AmZUY3Ri08Q4",
        "outputId": "0056d8f2-2bd7-4978-cc41-61b79ae5cf7a"
      },
      "execution_count": 65,
      "outputs": [
        {
          "output_type": "execute_result",
          "data": {
            "text/html": [
              "\n",
              "  <div id=\"df-dc043c74-6b6e-4b74-a07a-dc37cb739f47\">\n",
              "    <div class=\"colab-df-container\">\n",
              "      <div>\n",
              "<style scoped>\n",
              "    .dataframe tbody tr th:only-of-type {\n",
              "        vertical-align: middle;\n",
              "    }\n",
              "\n",
              "    .dataframe tbody tr th {\n",
              "        vertical-align: top;\n",
              "    }\n",
              "\n",
              "    .dataframe thead th {\n",
              "        text-align: right;\n",
              "    }\n",
              "</style>\n",
              "<table border=\"1\" class=\"dataframe\">\n",
              "  <thead>\n",
              "    <tr style=\"text-align: right;\">\n",
              "      <th></th>\n",
              "      <th>label</th>\n",
              "      <th>precision</th>\n",
              "      <th>recall</th>\n",
              "    </tr>\n",
              "  </thead>\n",
              "  <tbody>\n",
              "    <tr>\n",
              "      <th>T-shirt/top</th>\n",
              "      <td>0</td>\n",
              "      <td>0.714401</td>\n",
              "      <td>0.888</td>\n",
              "    </tr>\n",
              "    <tr>\n",
              "      <th>Trouser</th>\n",
              "      <td>1</td>\n",
              "      <td>0.985522</td>\n",
              "      <td>0.953</td>\n",
              "    </tr>\n",
              "    <tr>\n",
              "      <th>Pullover</th>\n",
              "      <td>2</td>\n",
              "      <td>0.856187</td>\n",
              "      <td>0.512</td>\n",
              "    </tr>\n",
              "    <tr>\n",
              "      <th>Dress</th>\n",
              "      <td>3</td>\n",
              "      <td>0.881356</td>\n",
              "      <td>0.832</td>\n",
              "    </tr>\n",
              "    <tr>\n",
              "      <th>Coat</th>\n",
              "      <td>4</td>\n",
              "      <td>0.691571</td>\n",
              "      <td>0.722</td>\n",
              "    </tr>\n",
              "    <tr>\n",
              "      <th>Sandal</th>\n",
              "      <td>5</td>\n",
              "      <td>0.959918</td>\n",
              "      <td>0.934</td>\n",
              "    </tr>\n",
              "    <tr>\n",
              "      <th>Shirt</th>\n",
              "      <td>6</td>\n",
              "      <td>0.490772</td>\n",
              "      <td>0.585</td>\n",
              "    </tr>\n",
              "    <tr>\n",
              "      <th>Sneaker</th>\n",
              "      <td>7</td>\n",
              "      <td>0.948832</td>\n",
              "      <td>0.853</td>\n",
              "    </tr>\n",
              "    <tr>\n",
              "      <th>Bag</th>\n",
              "      <td>8</td>\n",
              "      <td>0.947783</td>\n",
              "      <td>0.962</td>\n",
              "    </tr>\n",
              "    <tr>\n",
              "      <th>Ankle boot</th>\n",
              "      <td>9</td>\n",
              "      <td>0.870222</td>\n",
              "      <td>0.979</td>\n",
              "    </tr>\n",
              "  </tbody>\n",
              "</table>\n",
              "</div>\n",
              "      <button class=\"colab-df-convert\" onclick=\"convertToInteractive('df-dc043c74-6b6e-4b74-a07a-dc37cb739f47')\"\n",
              "              title=\"Convert this dataframe to an interactive table.\"\n",
              "              style=\"display:none;\">\n",
              "        \n",
              "  <svg xmlns=\"http://www.w3.org/2000/svg\" height=\"24px\"viewBox=\"0 0 24 24\"\n",
              "       width=\"24px\">\n",
              "    <path d=\"M0 0h24v24H0V0z\" fill=\"none\"/>\n",
              "    <path d=\"M18.56 5.44l.94 2.06.94-2.06 2.06-.94-2.06-.94-.94-2.06-.94 2.06-2.06.94zm-11 1L8.5 8.5l.94-2.06 2.06-.94-2.06-.94L8.5 2.5l-.94 2.06-2.06.94zm10 10l.94 2.06.94-2.06 2.06-.94-2.06-.94-.94-2.06-.94 2.06-2.06.94z\"/><path d=\"M17.41 7.96l-1.37-1.37c-.4-.4-.92-.59-1.43-.59-.52 0-1.04.2-1.43.59L10.3 9.45l-7.72 7.72c-.78.78-.78 2.05 0 2.83L4 21.41c.39.39.9.59 1.41.59.51 0 1.02-.2 1.41-.59l7.78-7.78 2.81-2.81c.8-.78.8-2.07 0-2.86zM5.41 20L4 18.59l7.72-7.72 1.47 1.35L5.41 20z\"/>\n",
              "  </svg>\n",
              "      </button>\n",
              "      \n",
              "  <style>\n",
              "    .colab-df-container {\n",
              "      display:flex;\n",
              "      flex-wrap:wrap;\n",
              "      gap: 12px;\n",
              "    }\n",
              "\n",
              "    .colab-df-convert {\n",
              "      background-color: #E8F0FE;\n",
              "      border: none;\n",
              "      border-radius: 50%;\n",
              "      cursor: pointer;\n",
              "      display: none;\n",
              "      fill: #1967D2;\n",
              "      height: 32px;\n",
              "      padding: 0 0 0 0;\n",
              "      width: 32px;\n",
              "    }\n",
              "\n",
              "    .colab-df-convert:hover {\n",
              "      background-color: #E2EBFA;\n",
              "      box-shadow: 0px 1px 2px rgba(60, 64, 67, 0.3), 0px 1px 3px 1px rgba(60, 64, 67, 0.15);\n",
              "      fill: #174EA6;\n",
              "    }\n",
              "\n",
              "    [theme=dark] .colab-df-convert {\n",
              "      background-color: #3B4455;\n",
              "      fill: #D2E3FC;\n",
              "    }\n",
              "\n",
              "    [theme=dark] .colab-df-convert:hover {\n",
              "      background-color: #434B5C;\n",
              "      box-shadow: 0px 1px 3px 1px rgba(0, 0, 0, 0.15);\n",
              "      filter: drop-shadow(0px 1px 2px rgba(0, 0, 0, 0.3));\n",
              "      fill: #FFFFFF;\n",
              "    }\n",
              "  </style>\n",
              "\n",
              "      <script>\n",
              "        const buttonEl =\n",
              "          document.querySelector('#df-dc043c74-6b6e-4b74-a07a-dc37cb739f47 button.colab-df-convert');\n",
              "        buttonEl.style.display =\n",
              "          google.colab.kernel.accessAllowed ? 'block' : 'none';\n",
              "\n",
              "        async function convertToInteractive(key) {\n",
              "          const element = document.querySelector('#df-dc043c74-6b6e-4b74-a07a-dc37cb739f47');\n",
              "          const dataTable =\n",
              "            await google.colab.kernel.invokeFunction('convertToInteractive',\n",
              "                                                     [key], {});\n",
              "          if (!dataTable) return;\n",
              "\n",
              "          const docLinkHtml = 'Like what you see? Visit the ' +\n",
              "            '<a target=\"_blank\" href=https://colab.research.google.com/notebooks/data_table.ipynb>data table notebook</a>'\n",
              "            + ' to learn more about interactive tables.';\n",
              "          element.innerHTML = '';\n",
              "          dataTable['output_type'] = 'display_data';\n",
              "          await google.colab.output.renderOutput(dataTable, element);\n",
              "          const docLink = document.createElement('div');\n",
              "          docLink.innerHTML = docLinkHtml;\n",
              "          element.appendChild(docLink);\n",
              "        }\n",
              "      </script>\n",
              "    </div>\n",
              "  </div>\n",
              "  "
            ],
            "text/plain": [
              "             label  precision  recall\n",
              "T-shirt/top      0   0.714401   0.888\n",
              "Trouser          1   0.985522   0.953\n",
              "Pullover         2   0.856187   0.512\n",
              "Dress            3   0.881356   0.832\n",
              "Coat             4   0.691571   0.722\n",
              "Sandal           5   0.959918   0.934\n",
              "Shirt            6   0.490772   0.585\n",
              "Sneaker          7   0.948832   0.853\n",
              "Bag              8   0.947783   0.962\n",
              "Ankle boot       9   0.870222   0.979"
            ]
          },
          "metadata": {},
          "execution_count": 65
        }
      ]
    }
  ]
}