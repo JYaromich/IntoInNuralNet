{
 "cells": [
  {
   "cell_type": "markdown",
   "metadata": {},
   "source": [
    "# Домашняя работа"
   ]
  },
  {
   "cell_type": "markdown",
   "metadata": {},
   "source": [
    "1. Попробуйте видоизменить параметры разобранной на уроке двухслойной нейронной сети таким образом, чтобы улучшить ее точность."
   ]
  },
  {
   "cell_type": "code",
   "execution_count": 1,
   "metadata": {},
   "outputs": [],
   "source": [
    "import numpy as np\n",
    "import pandas as pd\n",
    "import seaborn as sns\n",
    "import matplotlib.pyplot as plt\n",
    "\n",
    "from sklearn.datasets import load_digits\n",
    "from sklearn.preprocessing import MinMaxScaler\n",
    "from sklearn.model_selection import train_test_split"
   ]
  },
  {
   "cell_type": "code",
   "execution_count": 2,
   "metadata": {},
   "outputs": [],
   "source": [
    "X, y = load_digits(return_X_y=True)"
   ]
  },
  {
   "cell_type": "code",
   "execution_count": 3,
   "metadata": {},
   "outputs": [
    {
     "data": {
      "image/png": "[encoded data removed]",
      "text/plain": [
       "<Figure size 1152x432 with 10 Axes>"
      ]
     },
     "metadata": {
      "needs_background": "light"
     },
     "output_type": "display_data"
    }
   ],
   "source": [
    "plt.figure(figsize=(16, 6))\n",
    "for i in range(10):\n",
    "    plt.subplot(2, 5, i + 1)\n",
    "    plt.imshow(X[i,:].reshape([8, 8]))"
   ]
  },
  {
   "cell_type": "code",
   "execution_count": 4,
   "metadata": {},
   "outputs": [],
   "source": [
    "def to_one_hot(Y):\n",
    "    n_col = np.max(Y) + 1\n",
    "    binarized = np.zeros((len(Y), n_col))\n",
    "    for i in range(len(Y)):\n",
    "        binarized[i, Y[i]] = 1\n",
    "    return binarized"
   ]
  },
  {
   "cell_type": "code",
   "execution_count": 5,
   "metadata": {},
   "outputs": [
    {
     "data": {
      "text/plain": [
       "array([[1., 0., 0., ..., 0., 0., 0.],\n",
       "       [0., 1., 0., ..., 0., 0., 0.],\n",
       "       [0., 0., 1., ..., 0., 0., 0.],\n",
       "       ...,\n",
       "       [0., 0., 0., ..., 0., 1., 0.],\n",
       "       [0., 0., 0., ..., 0., 0., 1.],\n",
       "       [0., 0., 0., ..., 0., 1., 0.]])"
      ]
     },
     "metadata": {},
     "output_type": "display_data"
    },
    {
     "data": {
      "text/plain": [
       "(1797, 10)"
      ]
     },
     "metadata": {},
     "output_type": "display_data"
    }
   ],
   "source": [
    "# формирование входных данных\n",
    "scaler = MinMaxScaler()\n",
    "X = scaler.fit_transform(X)\n",
    "\n",
    "# формирование выходных данных(результатов)\n",
    "y = y.flatten()\n",
    "y = to_one_hot(y)\n",
    "display(y, y.shape)"
   ]
  },
  {
   "cell_type": "code",
   "execution_count": 6,
   "metadata": {},
   "outputs": [],
   "source": [
    "X_train, X_test, y_train, y_test = train_test_split(X, y, test_size=0.33)"
   ]
  },
  {
   "cell_type": "code",
   "execution_count": 7,
   "metadata": {},
   "outputs": [],
   "source": [
    "from IPython.core.debugger import set_trace"
   ]
  },
  {
   "cell_type": "code",
   "execution_count": 8,
   "metadata": {},
   "outputs": [],
   "source": [
    "from sklearn.base import BaseEstimator, TransformerMixin\n",
    "\n",
    "\n",
    "class OneHiddenLayerNeuralNetClassification(BaseEstimator, TransformerMixin):\n",
    "  \n",
    "    def sigmoid(self, x): \n",
    "        return 1 / (1 + np.exp(-x))\n",
    "    \n",
    "    def sigmoid_deriv(self, x):\n",
    "        return self.sigmoid(x) * (1 - self.sigmoid(x))\n",
    "    \n",
    "    def relu(self, x):\n",
    "        return np.where(x > 0, x, 0)\n",
    "    \n",
    "    def relu_deriv(self, x):\n",
    "        return np.where(x >= 0, 1, 0)\n",
    "  \n",
    "    def __init__(self, hide_neuron_count, \n",
    "                activation_function_type='sigma',\n",
    "                output_neuron_cout=10, \n",
    "                learning_rate=0.1, \n",
    "                num_epochs=100,\n",
    "                random_seed=1,\n",
    "                visualisation=True,\n",
    "                epsilon=1e-5):\n",
    "        self.hide_neuron_count = hide_neuron_count\n",
    "        self.output_neuron_cout = output_neuron_cout\n",
    "        self.learning_rate = learning_rate\n",
    "        self.num_epochs = num_epochs\n",
    "        self.activation_function_type = activation_function_type\n",
    "\n",
    "        if random_seed:\n",
    "            np.random.seed(random_seed)\n",
    "\n",
    "        self.train_errors = []\n",
    "        self.train_metrics = []\n",
    "        \n",
    "        self.visualisation = visualisation\n",
    "        \n",
    "        self.w1 = None\n",
    "        self.w0 = None\n",
    "        \n",
    "        self.epsilon = epsilon\n",
    "        \n",
    "\n",
    "    def get_activation_func_deriv(self, x):\n",
    "        if self.activation_function_type == 'sigma':\n",
    "            return self.sigmoid_deriv(x)\n",
    "        \n",
    "        if self.activation_function_type == 'relu':\n",
    "            return self.relu_deriv(x)\n",
    "\n",
    "    def get_activation_func(self, x):\n",
    "        if self.activation_function_type == 'sigma':\n",
    "            return self.sigmoid(x)\n",
    "        \n",
    "        if self.activation_function_type == 'relu':\n",
    "            return self.relu(x)\n",
    "\n",
    "    def fit(self, X, y):\n",
    "        input_neural_count = X.shape[1]\n",
    "\n",
    "        w0 = np.random.random((input_neural_count, self.hide_neuron_count))  \n",
    "        w1 = np.random.random((self.hide_neuron_count, self.output_neuron_cout))\n",
    "\n",
    "        for i in range(self.num_epochs):\n",
    "\n",
    "            # прямое распространение(feed forward)\n",
    "            layer0 = X\n",
    "            # set_trace()\n",
    "            layer1 = self.get_activation_func(np.dot(layer0, w0))\n",
    "            layer2 = self.sigmoid(np.dot(layer1, w1))\n",
    "\n",
    "            # обратное распространение (back propagation)\n",
    "            # с использованием градиентного спуска\n",
    "            layer2_error = layer2 - y  # производная функции потерь\n",
    "            layer2_grad = layer2_error * self.sigmoid_deriv(layer2)\n",
    "            \n",
    "            layer1_error = layer2_grad.dot(w1.T)\n",
    "            layer1_grad = layer1_error * self.get_activation_func_deriv(layer1)\n",
    "            \n",
    "            w1 -= layer1.T.dot(layer2_grad) * self.learning_rate\n",
    "            w0 -= layer0.T.dot(layer1_grad) * self.learning_rate\n",
    "            \n",
    "            # ошибка модели\n",
    "            error = np.mean(np.abs(layer2_error))\n",
    "            self.train_errors.append(error)\n",
    "\n",
    "            # метрики качества\n",
    "            preds = np.argmax(layer2, axis=1)\n",
    "            labels = np.argmax(y, axis=1)\n",
    "            accuracy = (preds == labels).sum() * 100 / len(labels)\n",
    "            self.train_metrics.append(accuracy)\n",
    "            \n",
    "            # if (len(self.train_metrics) > 2) and (np.abs(self.train_metrics[-2] - self.train_metrics[-1]) < self.epsilon):\n",
    "            #     break\n",
    "        \n",
    "        self.w1 = w1\n",
    "        self.w0 = w0\n",
    "\n",
    "        if self.visualisation:\n",
    "\n",
    "            plt.figure(figsize=(16, 5))\n",
    "            plt.title(f'Last error is {error}')\n",
    "            plt.plot(self.train_errors, c='orange')\n",
    "            plt.xlabel('Обучение')\n",
    "            plt.ylabel('Ошибка')\n",
    "            plt.show()\n",
    "\n",
    "            plt.figure(figsize=(16, 5))\n",
    "            plt.title(f'Last accuracy is {accuracy}')\n",
    "            plt.plot(self.train_metrics, c='green')\n",
    "            plt.xlabel('Количество итераций')\n",
    "            plt.ylabel('Accuracy')\n",
    "            plt.show()\n",
    "        \n",
    "        return self.train_errors, self.train_metrics\n",
    "    \n",
    "    def predict(self, X):\n",
    "        layer0 = X\n",
    "        layer1 = self.get_activation_func(np.dot(layer0, self.w0))\n",
    "        layer2 = self.sigmoid(np.dot(layer1, self.w1))\n",
    "        \n",
    "        return np.argmax(layer2, axis=1)"
   ]
  },
  {
   "cell_type": "code",
   "execution_count": 9,
   "metadata": {},
   "outputs": [
    {
     "name": "stderr",
     "output_type": "stream",
     "text": [
      "C:\\Users\\B7E3~1\\AppData\\Local\\Temp/ipykernel_5600/402633029.py:7: RuntimeWarning: overflow encountered in exp\n",
      "  return 1 / (1 + np.exp(-x))\n"
     ]
    },
    {
     "data": {
      "image/png": "[encoded data removed]",
      "text/plain": [
       "<Figure size 1152x360 with 1 Axes>"
      ]
     },
     "metadata": {
      "needs_background": "light"
     },
     "output_type": "display_data"
    },
    {
     "data": {
      "image/png": "[encoded data removed]",
      "text/plain": [
       "<Figure size 1152x360 with 1 Axes>"
      ]
     },
     "metadata": {
      "needs_background": "light"
     },
     "output_type": "display_data"
    }
   ],
   "source": [
    "net = OneHiddenLayerNeuralNetClassification(hide_neuron_count=30, activation_function_type='relu', num_epochs=1000, learning_rate=.001)\n",
    "# net = OneHiddenLayerNeuralNetClassification(hide_neuron_count=20, activation_function_type='sigma', num_epochs=5000, learning_rate=.001)\n",
    "_ = net.fit(X_train, y_train)"
   ]
  },
  {
   "cell_type": "code",
   "execution_count": 10,
   "metadata": {},
   "outputs": [
    {
     "name": "stdout",
     "output_type": "stream",
     "text": [
      "accuracy на тесте 96.30%\n"
     ]
    }
   ],
   "source": [
    "preds_test = net.predict(X_test)\n",
    "labels_test = np.argmax(y_test, axis=1)\n",
    "accuracy_test = (preds_test == labels_test).sum() * 100 / len(labels_test)\n",
    "\n",
    "print(f\"accuracy на тесте {accuracy_test:.2f}%\")"
   ]
  },
  {
   "cell_type": "markdown",
   "metadata": {},
   "source": [
    "HyperOpt"
   ]
  },
  {
   "cell_type": "code",
   "execution_count": null,
   "metadata": {},
   "outputs": [],
   "source": [
    "Best {'activation_function_type': 0, 'hide_neuron_count': 2, 'learning_rate': 2, 'num_epochs': 1}\n",
    "Best {'activation_function_type': 0, 'hide_neuron_count': 1, 'learning_rate': 1, 'num_epochs': 0}"
   ]
  },
  {
   "cell_type": "code",
   "execution_count": 22,
   "metadata": {},
   "outputs": [],
   "source": [
    "from hyperopt import tpe, hp, fmin, STATUS_OK, Trials\n",
    "\n",
    "space = {\n",
    "    'hide_neuron_count': hp.choice('hide_neuron_count', [65, 70, 75]), \n",
    "    'activation_function_type': hp.choice('activation_function_type', ['sigma', 'relu']), \n",
    "    'num_epochs': hp.choice('num_epochs', [500, 550, 600, 700]), \n",
    "    'learning_rate': hp.choice('learning_rate', [.01, .001, .02])\n",
    "}"
   ]
  },
  {
   "cell_type": "code",
   "execution_count": 23,
   "metadata": {},
   "outputs": [],
   "source": [
    "def hyperparametr_tuning(params):\n",
    "    model = OneHiddenLayerNeuralNetClassification(**params, visualisation=False)\n",
    "\n",
    "    model.fit(X_train, y_train)\n",
    "\n",
    "    preds_test = model.predict(X_test)\n",
    "    labels_test = np.argmax(y_test, axis=1)\n",
    "    accuracy_test = (preds_test == labels_test).sum() * 100 / len(labels_test)\n",
    "    \n",
    "    return {'loss': -accuracy_test, 'status': STATUS_OK}"
   ]
  },
  {
   "cell_type": "code",
   "execution_count": 24,
   "metadata": {},
   "outputs": [
    {
     "name": "stdout",
     "output_type": "stream",
     "text": [
      "  0%|          | 0/50 [00:00<?, ?trial/s, best loss=?]"
     ]
    },
    {
     "name": "stderr",
     "output_type": "stream",
     "text": [
      "C:\\Users\\B7E3~1\\AppData\\Local\\Temp/ipykernel_5600/402633029.py:7: RuntimeWarning: overflow encountered in exp\n",
      "  return 1 / (1 + np.exp(-x))\n",
      "\n"
     ]
    },
    {
     "name": "stdout",
     "output_type": "stream",
     "text": [
      " 94%|█████████▍| 47/50 [02:10<00:08,  2.85s/trial, best loss: -96.96969696969697]"
     ]
    },
    {
     "name": "stderr",
     "output_type": "stream",
     "text": [
      "C:\\Users\\B7E3~1\\AppData\\Local\\Temp/ipykernel_5600/402633029.py:82: RuntimeWarning: invalid value encountered in subtract\n",
      "  w1 -= layer1.T.dot(layer2_grad) * self.learning_rate\n",
      "\n"
     ]
    },
    {
     "name": "stdout",
     "output_type": "stream",
     "text": [
      "100%|██████████| 50/50 [02:18<00:00,  2.76s/trial, best loss: -96.96969696969697]\n",
      "Best {'activation_function_type': 0, 'hide_neuron_count': 1, 'learning_rate': 0, 'num_epochs': 2}\n"
     ]
    }
   ],
   "source": [
    "trial = Trials()\n",
    "\n",
    "best = fmin(\n",
    "    fn=hyperparametr_tuning,\n",
    "    space=space,\n",
    "    algo=tpe.suggest,\n",
    "    max_evals=50,\n",
    "    trials=trial\n",
    ")\n",
    "\n",
    "print(f'Best {best}')"
   ]
  },
  {
   "cell_type": "code",
   "execution_count": 26,
   "metadata": {},
   "outputs": [
    {
     "data": {
      "image/png": "[encoded data removed]",
      "text/plain": [
       "<Figure size 1152x360 with 1 Axes>"
      ]
     },
     "metadata": {
      "needs_background": "light"
     },
     "output_type": "display_data"
    },
    {
     "data": {
      "image/png": "[encoded data removed]",
      "text/plain": [
       "<Figure size 1152x360 with 1 Axes>"
      ]
     },
     "metadata": {
      "needs_background": "light"
     },
     "output_type": "display_data"
    }
   ],
   "source": [
    "params = {'activation_function_type': 'sigma', 'hide_neuron_count': 70, 'learning_rate': .01, 'num_epochs': 600}\n",
    "\n",
    "net = OneHiddenLayerNeuralNetClassification(**params)\n",
    "net.fit(X_train, y_train);"
   ]
  },
  {
   "cell_type": "markdown",
   "metadata": {},
   "source": [
    "2. Проведите анализ — что приводит к ухудшению точности нейронной сети?"
   ]
  },
  {
   "cell_type": "markdown",
   "metadata": {},
   "source": [
    "К ухудщению точности нейронной сети приводит увеличение параметра learning_rate, уменьшнение количества нейронов в скрытом слое"
   ]
  },
  {
   "cell_type": "markdown",
   "metadata": {},
   "source": [
    "3. Что приводит к увеличению ее точности?"
   ]
  },
  {
   "cell_type": "markdown",
   "metadata": {},
   "source": [
    "К увеличению точности приводит: увеличение количество нейронов в скрытом слое, уменьшение скорости обучения, увеличение числа эпох "
   ]
  },
  {
   "cell_type": "markdown",
   "metadata": {},
   "source": []
  }
 ],
 "metadata": {
  "interpreter": {
   "hash": "6c770510bda656f78833370cff2820695750f7982c890145943e39366a436fd1"
  },
  "kernelspec": {
   "display_name": "Python 3.9.7 ('base')",
   "language": "python",
   "name": "python3"
  },
  "language_info": {
   "codemirror_mode": {
    "name": "ipython",
    "version": 3
   },
   "file_extension": ".py",
   "mimetype": "text/x-python",
   "name": "python",
   "nbconvert_exporter": "python",
   "pygments_lexer": "ipython3",
   "version": "3.9.7"
  },
  "orig_nbformat": 4
 },
 "nbformat": 4,
 "nbformat_minor": 2
}
